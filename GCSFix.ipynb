{
 "cells": [
  {
   "cell_type": "code",
   "execution_count": 3,
   "metadata": {},
   "outputs": [],
   "source": [
    "import os"
   ]
  },
  {
   "cell_type": "code",
   "execution_count": 4,
   "metadata": {},
   "outputs": [],
   "source": [
    "import json\n",
    "import re\n",
    "from google.cloud import vision\n",
    "from google.cloud import storage"
   ]
  },
  {
   "cell_type": "code",
   "execution_count": 5,
   "metadata": {},
   "outputs": [],
   "source": [
    "os.environ[\"GOOGLE_APPLICATION_CREDENTIALS\"]=\"\"\"C:/Users/Alexander Lawson/Downloads/calendaralerts-301014-5cbdeed27a17.json\"\"\""
   ]
  },
  {
   "cell_type": "code",
   "execution_count": 14,
   "metadata": {},
   "outputs": [],
   "source": [
    "gcs_source_uri=\"\"\"gs://equibase_pdfs_1/test2.pdf\"\"\""
   ]
  },
  {
   "cell_type": "code",
   "execution_count": 15,
   "metadata": {},
   "outputs": [],
   "source": [
    "# Supported mime_types are: 'application/pdf' and 'image/tiff'\n",
    "mime_type = 'application/pdf'\n",
    "\n",
    "# How many pages should be grouped into each json output file.\n",
    "batch_size = 10\n",
    "\n",
    "client = vision.ImageAnnotatorClient()\n",
    "\n",
    "feature = vision.Feature(\n",
    "    type_=vision.Feature.Type.DOCUMENT_TEXT_DETECTION)"
   ]
  },
  {
   "cell_type": "code",
   "execution_count": 16,
   "metadata": {},
   "outputs": [],
   "source": [
    "gcs_source = vision.GcsSource(uri=gcs_source_uri)\n",
    "input_config = vision.InputConfig(\n",
    "    gcs_source=gcs_source, mime_type=mime_type)"
   ]
  },
  {
   "cell_type": "code",
   "execution_count": 17,
   "metadata": {},
   "outputs": [],
   "source": [
    "gcs_destination_uri=\"\"\"gs://equibase_pdfs_1/jsons_out/test2\"\"\""
   ]
  },
  {
   "cell_type": "code",
   "execution_count": 18,
   "metadata": {},
   "outputs": [],
   "source": [
    "gcs_destination = vision.GcsDestination(uri=gcs_destination_uri)\n",
    "output_config = vision.OutputConfig(\n",
    "    gcs_destination=gcs_destination, batch_size=batch_size)"
   ]
  },
  {
   "cell_type": "code",
   "execution_count": 19,
   "metadata": {},
   "outputs": [],
   "source": [
    "async_request = vision.AsyncAnnotateFileRequest(\n",
    "    features=[feature], input_config=input_config,\n",
    "    output_config=output_config)"
   ]
  },
  {
   "cell_type": "code",
   "execution_count": 20,
   "metadata": {},
   "outputs": [],
   "source": [
    "operation = client.async_batch_annotate_files(requests=[async_request])"
   ]
  },
  {
   "cell_type": "code",
   "execution_count": 21,
   "metadata": {},
   "outputs": [
    {
     "data": {
      "text/plain": [
       "responses {\n",
       "  output_config {\n",
       "    gcs_destination {\n",
       "      uri: \"gs://equibase_pdfs_1/jsons_out/test2\"\n",
       "    }\n",
       "    batch_size: 10\n",
       "  }\n",
       "}"
      ]
     },
     "execution_count": 21,
     "metadata": {},
     "output_type": "execute_result"
    }
   ],
   "source": [
    "operation.result(timeout=420)"
   ]
  },
  {
   "cell_type": "code",
   "execution_count": 22,
   "metadata": {},
   "outputs": [],
   "source": [
    "storage_client = storage.Client()\n",
    "\n",
    "match = re.match(r'gs://([^/]+)/(.+)', gcs_destination_uri)\n",
    "bucket_name = match.group(1)\n",
    "prefix = match.group(2)\n",
    "\n",
    "bucket = storage_client.get_bucket(bucket_name)\n"
   ]
  },
  {
   "cell_type": "code",
   "execution_count": 23,
   "metadata": {},
   "outputs": [],
   "source": [
    "blob_list = list(bucket.list_blobs(prefix=prefix))"
   ]
  },
  {
   "cell_type": "code",
   "execution_count": 24,
   "metadata": {},
   "outputs": [],
   "source": [
    "output = blob_list[0]"
   ]
  },
  {
   "cell_type": "code",
   "execution_count": 25,
   "metadata": {},
   "outputs": [],
   "source": [
    "json_string = output.download_as_string()\n",
    "response = json.loads(json_string)"
   ]
  },
  {
   "cell_type": "code",
   "execution_count": 26,
   "metadata": {},
   "outputs": [],
   "source": [
    "blob=bucket.blob('text_files_out/test2.txt')"
   ]
  },
  {
   "cell_type": "code",
   "execution_count": 27,
   "metadata": {},
   "outputs": [],
   "source": [
    "blob.upload_from_string(response['responses'][0]['fullTextAnnotation']['text'])"
   ]
  },
  {
   "cell_type": "code",
   "execution_count": 28,
   "metadata": {},
   "outputs": [],
   "source": [
    "a=(response['responses'][0]['fullTextAnnotation']['text'])"
   ]
  },
  {
   "cell_type": "code",
   "execution_count": 33,
   "metadata": {},
   "outputs": [
    {
     "data": {
      "text/plain": [
       "'Past Performance Running Line Preview\\nPgm Horse Name Start 1/4 1/2 314\\n5 Colonel Liam\\n12\\n72 1/4\\n6 Largent\\n2\\n9 Cross Border\\n7\\n12 Social Paranoia\\n6\\n10 Pixelate\\n5\\n1 Next Shares\\n10\\n3 Storm the Court\\n1\\n7 Aquaphobia\\n8\\n2 Breaking the Rules 4\\n4 North Dakota\\n11\\n127\\n11 Say the Word\\n9\\n73 1/4\\n8 Anothertwistafate 3\\n21\\n53\\n32\\n53\\n116\\n17\\n1\\n2 Head\\n62 1/4\\n63 1/4\\n42\\n72 3/4\\n41\\n84 1/4\\n31/2\\n82 3/4\\n1 Head\\n41\\n31\\n72 1/4\\n115\\n32 1/4\\n51 1/2\\n1 Head\\n42 3/4\\n61314\\n103 3/4\\n83 114\\n114 1/2\\n11/2\\n105\\n103 112\\n63 1/4\\n114 114\\n94 3/4\\n126 1/2\\n73 1/2\\n93 1/4\\n93 3/4\\n125 1/4\\n82 3/4\\n125 1/2\\n94 1/4\\n103 1/2\\n104 1/4\\n115 112\\n93 1/4\\n2 Head\\n21/2\\n5314\\n126\\n'"
      ]
     },
     "execution_count": 33,
     "metadata": {},
     "output_type": "execute_result"
    }
   ],
   "source": [
    "a[a.find('Past Performance Running Line Preview'):a.find('Trainers')]"
   ]
  },
  {
   "cell_type": "code",
   "execution_count": null,
   "metadata": {},
   "outputs": [],
   "source": []
  }
 ],
 "metadata": {
  "kernelspec": {
   "display_name": "Python 3",
   "language": "python",
   "name": "python3"
  },
  "language_info": {
   "codemirror_mode": {
    "name": "ipython",
    "version": 3
   },
   "file_extension": ".py",
   "mimetype": "text/x-python",
   "name": "python",
   "nbconvert_exporter": "python",
   "pygments_lexer": "ipython3",
   "version": "3.8.3"
  }
 },
 "nbformat": 4,
 "nbformat_minor": 4
}
